{
 "cells": [
  {
   "cell_type": "markdown",
   "metadata": {},
   "source": [
    "# Geradores\n",
    "\n",
    "Em aulas anteriores, estudamos:\n",
    "\n",
    "- List Comprehensions\n",
    "- Dict Comprehensions\n",
    "- Set Comprehensions\n",
    "\n",
    "Não Vimos:\n",
    "\n",
    "- Tuple Comprehension.\n",
    "\n",
    "Nos não vimos Tuple Complehension pois se chamam Generators\n"
   ]
  },
  {
   "cell_type": "code",
   "execution_count": 15,
   "metadata": {},
   "outputs": [
    {
     "name": "stdout",
     "output_type": "stream",
     "text": [
      "True\n",
      "(True, False, True, True) <generator object <genexpr> at 0x000001CE64D89230>\n",
      "<class 'tuple'> <class 'list'> <class 'generator'>\n",
      "[]\n"
     ]
    }
   ],
   "source": [
    "# Indo para a prática\n",
    "\n",
    "nomes = ['Carlos', 'Daniel', 'Carla', 'Cassiano']\n",
    "\n",
    "print(any([nome[0] == 'C' for nome in nomes]))\n",
    "# Aqui nos estamos gerando um generator para cada posição da nossa lista, entãom o resultado vão ser true ou falso pra cada posição\n",
    "res = tuple(names[0] == 'C' for names in nomes)\n",
    "# Este é o formato de um gerador\n",
    "resultado = (nome[0] == 'C' for nome in nomes)\n",
    "resultado = (nome[0] == 'C' for nome in nomes if nomes[0] == 'C')\n",
    "\n",
    "\n",
    "print(res, resultado)\n",
    "print(type(res), type(nomes), type(resultado))\n",
    "print([resultados for resultados in resultado])\n"
   ]
  },
  {
   "cell_type": "code",
   "execution_count": 20,
   "metadata": {},
   "outputs": [
    {
     "name": "stdout",
     "output_type": "stream",
     "text": [
      "98\n"
     ]
    }
   ],
   "source": [
    "from sys import getsizeof  # importando uma biblioteca do sistema...\n",
    "\n",
    "# Qual a utilidade desta lib? Retorna a quantidade de bytes em memória do elemento passado em parâmetro\n",
    "print(getsizeof('Thiago Ferreira Mares e Ana Clara Noemy Fernandes'))\n"
   ]
  },
  {
   "cell_type": "code",
   "execution_count": 24,
   "metadata": {},
   "outputs": [
    {
     "name": "stdout",
     "output_type": "stream",
     "text": [
      "8856 32984 36960 104\n"
     ]
    }
   ],
   "source": [
    "# Gerando uma lista de números com list comprehension\n",
    "\n",
    "lista = getsizeof([x * 10 for x in range(1000)])\n",
    "\n",
    "set_comp = getsizeof({x * 10 for x in range(1000)})\n",
    "\n",
    "dicionario = getsizeof({x: x * 10 for x in range(1000)})\n",
    "\n",
    "gerador = getsizeof(x * 10 for x in range(1000))\n",
    "\n",
    "print(lista, set_comp, dicionario, gerador)\n",
    "\n",
    "\n",
    "# Qual a conclusão que chegamos? Geradores, comparados a outros tipos de comprehensions, utiliza de muito menos memória e assim faz com que a velocidade de processamento seja beeem mais rápida, pois a quantidade de memória utilizada é uma fração das outras."
   ]
  },
  {
   "cell_type": "code",
   "execution_count": 25,
   "metadata": {},
   "outputs": [
    {
     "name": "stdout",
     "output_type": "stream",
     "text": [
      "<generator object <genexpr> at 0x000001CE64DC9380>\n"
     ]
    }
   ],
   "source": [
    "# Posso iterar num gerador?\n",
    "\n",
    "gen = (x * 10 for x in range(1000))\n",
    "print(gen)\n",
    "\n",
    "for num in gen:\n",
    "    print(num)"
   ]
  }
 ],
 "metadata": {
  "interpreter": {
   "hash": "2be5faf79681da6f2a61fdfdd5405d65d042280f7fba6178067603e3a2925119"
  },
  "kernelspec": {
   "display_name": "Python 3.10.0 64-bit",
   "language": "python",
   "name": "python3"
  },
  "language_info": {
   "codemirror_mode": {
    "name": "ipython",
    "version": 3
   },
   "file_extension": ".py",
   "mimetype": "text/x-python",
   "name": "python",
   "nbconvert_exporter": "python",
   "pygments_lexer": "ipython3",
   "version": "3.10.0"
  },
  "orig_nbformat": 4
 },
 "nbformat": 4,
 "nbformat_minor": 2
}
