{
 "cells": [
  {
   "cell_type": "markdown",
   "metadata": {},
   "source": [
    "# Mínimo e máximo\n",
    "\n",
    "O maximo retorna o maior valor de um iterável ou o maior valor de dois ou mais elementos\n"
   ]
  },
  {
   "cell_type": "code",
   "execution_count": 25,
   "metadata": {},
   "outputs": [
    {
     "name": "stdout",
     "output_type": "stream",
     "text": [
      "7 [1, 4, 7]\n",
      "7 (1, 4, 7)\n",
      "7 {1, 4, 7}\n"
     ]
    }
   ],
   "source": [
    "# mostrando o máximo\n",
    "\n",
    "lista = list(range(1, 10, 3))\n",
    "print(max(lista), lista)\n",
    "\n",
    "\n",
    "tupla = tuple(lista)\n",
    "print(max(tupla), tupla)\n",
    "\n",
    "\n",
    "conjunto = set(lista)\n",
    "print(max(conjunto), conjunto)\n",
    "\n",
    "\n",
    "# funciona com dicionários normalmente, porém tem que declarar values antes\n",
    "# dicionario = {}\n",
    "# for i in lista:\n",
    "#     dicionario[i] = lista[i]\n",
    "# print(max(dicionario.values()), dicionario)"
   ]
  },
  {
   "cell_type": "code",
   "execution_count": 26,
   "metadata": {},
   "outputs": [
    {
     "name": "stdout",
     "output_type": "stream",
     "text": [
      "33\n",
      "3.141592653589793\n",
      "Thiago\n"
     ]
    }
   ],
   "source": [
    "# Exercício\n",
    "\n",
    "'''Faça um programa que receba dois valores e retorne o maior valor'''\n",
    "\n",
    "valor1 = 12\n",
    "valor2 = 33\n",
    "valor3 = 0\n",
    "\n",
    "print(max(valor1, valor2, valor3))\n",
    "\n",
    "import math\n",
    "\n",
    "print(max(math.pi, 3.14))\n",
    "\n",
    "print(max('Thiago', 'AnaClara'))"
   ]
  },
  {
   "cell_type": "markdown",
   "metadata": {},
   "source": [
    "Já o min faz o inverso do max, retornando o menor valor\n"
   ]
  },
  {
   "cell_type": "code",
   "execution_count": 27,
   "metadata": {},
   "outputs": [
    {
     "name": "stdout",
     "output_type": "stream",
     "text": [
      "0\n",
      "3.14\n",
      "Ana Clara\n"
     ]
    }
   ],
   "source": [
    "# Exercício\n",
    "\n",
    "'''Faça um programa que receba dois valores e retorne o maior valor'''\n",
    "\n",
    "valor1 = 12\n",
    "valor2 = 33\n",
    "valor3 = 0\n",
    "\n",
    "print(min(valor1, valor2, valor3))\n",
    "\n",
    "import math\n",
    "\n",
    "print(min(math.pi, 3.14))\n",
    "\n",
    "nomes = ['Thiago', 'Ana Clara']\n",
    "\n",
    "print(min(nomes))"
   ]
  },
  {
   "cell_type": "markdown",
   "metadata": {},
   "source": [
    "Por que Thiago apareceu no max e Ana Clara apareceu no min?\n",
    "\n",
    "simples, ele considera pela ordem alfabética os nomes e não pelo tamanho da string. ele só consideraria pelo tamanho da string se fosse apenas um valor.\n"
   ]
  },
  {
   "cell_type": "code",
   "execution_count": 28,
   "metadata": {},
   "outputs": [
    {
     "name": "stdout",
     "output_type": "stream",
     "text": [
      "Ana Clara\n",
      "Thiago\n"
     ]
    }
   ],
   "source": [
    "# Neste caso, o programa irá avaliar pelo tamanho da string e não pela ordem alfabética\n",
    "\n",
    "print(max(nomes, key= lambda nomes: len(nomes)))\n",
    "\n",
    "print(min(nomes, key= lambda nomes: len(nomes)))"
   ]
  }
 ],
 "metadata": {
  "interpreter": {
   "hash": "767d51c1340bd893661ea55ea3124f6de3c7a262a8b4abca0554b478b1e2ff90"
  },
  "kernelspec": {
   "display_name": "Python 3.8.10 64-bit",
   "language": "python",
   "name": "python3"
  },
  "language_info": {
   "codemirror_mode": {
    "name": "ipython",
    "version": 3
   },
   "file_extension": ".py",
   "mimetype": "text/x-python",
   "name": "python",
   "nbconvert_exporter": "python",
   "pygments_lexer": "ipython3",
   "version": "3.10.3"
  },
  "orig_nbformat": 4
 },
 "nbformat": 4,
 "nbformat_minor": 2
}
