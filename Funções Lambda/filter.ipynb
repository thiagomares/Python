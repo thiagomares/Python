{
 "cells": [
  {
   "cell_type": "markdown",
   "metadata": {},
   "source": [
    " # Filter\n",
    "\n",
    "A função filter serve para filtrar dados de uma coleção de dados.\n",
    "\n",
    "\n",
    "Imaginemos a seguinte situação:\n",
    "Nos temos uma infinidade de musicas e precisamos filtrar o numero de musicas mais tocadas pelo usuário"
   ]
  },
  {
   "cell_type": "code",
   "execution_count": 34,
   "metadata": {},
   "outputs": [
    {
     "name": "stdout",
     "output_type": "stream",
     "text": [
      "11.633333333333333\n"
     ]
    }
   ],
   "source": [
    "# Importando uma lib de estatistica\n",
    "import statistics as estatistica\n",
    "\n",
    "# Coletando dados de algum sensor foda-se\n",
    "valores = [\n",
    "    1.3, 2, 3.5, 12, 21, 30\n",
    "]\n",
    "\n",
    "# calculando a média deste conjunto\n",
    "\n",
    "media = estatistica.mean(valores)\n",
    "print(media)"
   ]
  },
  {
   "cell_type": "markdown",
   "metadata": {},
   "source": [
    "Agora sim nos vamos usar o bendito do filter"
   ]
  },
  {
   "cell_type": "code",
   "execution_count": 35,
   "metadata": {},
   "outputs": [
    {
     "name": "stdout",
     "output_type": "stream",
     "text": [
      "[12, 21, 30]\n"
     ]
    }
   ],
   "source": [
    "# Assim como a função map, a função filter também usa dois parametros, sendo um deles um iterável\n",
    "\n",
    "filtro = filter(lambda x: x > media, valores)\n",
    "print(list(filtro))"
   ]
  },
  {
   "cell_type": "markdown",
   "metadata": {},
   "source": [
    "Com o filter, podemos iterar também sobre listas com itens faltando"
   ]
  },
  {
   "cell_type": "code",
   "execution_count": 36,
   "metadata": {},
   "outputs": [
    {
     "name": "stdout",
     "output_type": "stream",
     "text": [
      "['Brasil', 'Colombia', 'Uruguai', 'Canadá', 'Reino Unido', ' '] ['Brasil', 'Colombia', 'Uruguai', 'Canadá', 'Reino Unido', ' ']\n"
     ]
    }
   ],
   "source": [
    "# Removendo itens faltantes\n",
    "\n",
    "paises = ['Brasil', 'Colombia', 'Uruguai', '', 'Canadá', 'Reino Unido', ' ']\n",
    "outro_filtro = list(filter(lambda x: x != '', paises))\n",
    "fazendo_com_none = list(filter(None, paises))\n",
    "print(outro_filtro, fazendo_com_none)"
   ]
  },
  {
   "cell_type": "markdown",
   "metadata": {},
   "source": [
    "Teste como se esstivéssemos fazendo uma entrevista"
   ]
  },
  {
   "cell_type": "code",
   "execution_count": 37,
   "metadata": {},
   "outputs": [
    {
     "name": "stdout",
     "output_type": "stream",
     "text": [
      "[{'username': '@cardinals', 'tweets': []}, {'username': '@saints', 'tweets': []}]\n",
      "[{'username': '@cardinals', 'tweets': []}, {'username': '@saints', 'tweets': []}]\n"
     ]
    }
   ],
   "source": [
    "user = [\n",
    "    {'username': '@othiagomares', 'tweets': ['Olá mundo', 'Vamo galo, inferno','Para de fazer merda, caralho']},\n",
    "    {'username': '@_bielvr', 'tweets': ['Deus é amor', 'Vamo inter, inferno','Sai do meu time, Edenilson']},\n",
    "    {'username': '@98helena', 'tweets': ['OIE', 'Esse time me estressa','vc só me enrola']},\n",
    "    {'username': '@cardinals', 'tweets': []},\n",
    "    {'username': '@saints', 'tweets': []},\n",
    "    {'username': '@atletico', 'tweets': ['Galo!']}\n",
    "]\n",
    "\n",
    "# Forma 1\n",
    "inativos = list(filter(lambda usuario: len(usuario['tweets']) == 0, user))\n",
    "print(inativos)\n",
    "\n",
    "# Forma 2\n",
    "inativos = list(filter(lambda usuario: not usuario['tweets'], user))\n",
    "print(inativos)\n",
    "\n"
   ]
  },
  {
   "cell_type": "code",
   "execution_count": 38,
   "metadata": {},
   "outputs": [
    {
     "name": "stdout",
     "output_type": "stream",
     "text": [
      "['Seu nome é Thiago']\n"
     ]
    }
   ],
   "source": [
    "#  Podemos ainda unir lambda, map e filter nessa salada toda\n",
    "\n",
    "nomes = ['Thiago', 'Gustavo', 'Chislainy']\n",
    "seisletras = list(map(lambda nome: f'Seu nome é {nome}', filter(lambda nome: len(nome) <= 6, nomes)))\n",
    "print(seisletras)"
   ]
  }
 ],
 "metadata": {
  "interpreter": {
   "hash": "b3ba2566441a7c06988d0923437866b63cedc61552a5af99d1f4fb67d367b25f"
  },
  "kernelspec": {
   "display_name": "Python 3.8.8 64-bit ('base': conda)",
   "name": "python3"
  },
  "language_info": {
   "codemirror_mode": {
    "name": "ipython",
    "version": 3
   },
   "file_extension": ".py",
   "mimetype": "text/x-python",
   "name": "python",
   "nbconvert_exporter": "python",
   "pygments_lexer": "ipython3",
   "version": "3.8.8"
  },
  "orig_nbformat": 4
 },
 "nbformat": 4,
 "nbformat_minor": 2
}
