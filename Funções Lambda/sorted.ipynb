{
 "cells": [
  {
   "cell_type": "markdown",
   "metadata": {},
   "source": [
    "# Sorted\n",
    "\n",
    "OBS: Não confundir com o sort() das listas. São coisas diferentes em python\n",
    "\n",
    "Podemos utilizar sorted para qualquer iterável. O sorted serve para ordenar elementos"
   ]
  },
  {
   "cell_type": "code",
   "execution_count": 8,
   "metadata": {},
   "outputs": [
    {
     "name": "stdout",
     "output_type": "stream",
     "text": [
      "[10, 9, 8, 7, 6, 5, 4, 3, 2, 1]\n",
      "None\n",
      "<class 'list'>\n",
      "[1, 2, 3, 6, 22]\n",
      "[6, 1, 2, 3, 22]\n"
     ]
    }
   ],
   "source": [
    "# Relembrando Sort das listas\n",
    "\n",
    "lista = list(range(10, 0, -1))\n",
    "print(lista)\n",
    "print(lista.sort())\n",
    "print(type(lista))\n",
    "\n",
    "\n",
    "numeros = [6, 1, 2, 3, 22]\n",
    "\n",
    "print(sorted(numeros))\n",
    "print(numeros)"
   ]
  },
  {
   "cell_type": "markdown",
   "metadata": {},
   "source": [
    "Beleza, mas qual a diferença um para o outro?\n",
    "\n",
    "Assim como nas outra função sort, ele vai ordenar a lista, normalmente, contudo, o sort vai ordenar aquela variável para que eles assumam os valores ordenados, e como sabemos que no python listas são os únicos objetos iteráveis passíveis de modificação, somente ele funciona com o sort. Contudo o sorted gera uma nova lista, que deve ser captada por um outro objeto, como no caso abaixo"
   ]
  },
  {
   "cell_type": "code",
   "execution_count": 22,
   "metadata": {},
   "outputs": [
    {
     "name": "stdout",
     "output_type": "stream",
     "text": [
      "[1, 2, 3, 6, 22]\n",
      "<class 'list'>\n",
      "[22, 6, 3, 2, 1]\n",
      "[{'username': '@98helena', 'tweets': ['OIE', 'Esse time me estressa', 'vc só me enrola']}, {'username': '@_bielvr', 'tweets': ['Deus é amor', 'Vamo inter, inferno', 'Sai do meu time, Edenilson']}, {'username': '@atletico', 'tweets': ['Galo!']}, {'username': '@cardinals', 'tweets': []}, {'username': '@othiagomares', 'tweets': ['Olá mundo', 'Vamo galo, inferno', 'Para de fazer merda, caralho']}, {'username': '@saints', 'tweets': []}]\n",
      "[{'username': '@saints', 'tweets': []}, {'username': '@othiagomares', 'tweets': ['Olá mundo', 'Vamo galo, inferno', 'Para de fazer merda, caralho']}, {'username': '@cardinals', 'tweets': []}, {'username': '@atletico', 'tweets': ['Galo!']}, {'username': '@_bielvr', 'tweets': ['Deus é amor', 'Vamo inter, inferno', 'Sai do meu time, Edenilson']}, {'username': '@98helena', 'tweets': ['OIE', 'Esse time me estressa', 'vc só me enrola']}]\n"
     ]
    }
   ],
   "source": [
    "enfileirado = sorted(numeros)\n",
    "\n",
    "print(enfileirado)\n",
    "print(type(enfileirado)) # O sorted sempre irá retornar uma lista\n",
    "\n",
    "\n",
    "# Add Parâmentros para o sorted\n",
    "\n",
    "print(sorted(numeros, reverse=True)) # Aqui ele irá gerar uma lista com os números invertidos inserindo o parametro reverse\n",
    "\n",
    "# Podemos utilizar o sorted para coisas um pouco mais complexas\n",
    "user = [\n",
    "    {'username': '@othiagomares', 'tweets': ['Olá mundo', 'Vamo galo, inferno','Para de fazer merda, caralho']},\n",
    "    {'username': '@_bielvr', 'tweets': ['Deus é amor', 'Vamo inter, inferno','Sai do meu time, Edenilson']},\n",
    "    {'username': '@98helena', 'tweets': ['OIE', 'Esse time me estressa','vc só me enrola']},\n",
    "    {'username': '@cardinals', 'tweets': []},\n",
    "    {'username': '@saints', 'tweets': []},\n",
    "    {'username': '@atletico', 'tweets': ['Galo!']}\n",
    "]\n",
    "\n",
    "# Ordenando pelo user - Ordem Alfabética\n",
    "print(sorted(user, key=lambda user: user[\"username\"])) # Quando precisamos buscar itens dentro de um iteravel e este iterável é um dicionário, nos precisamos informar uma chave para ele.\n",
    "\n",
    "\n",
    "# Ordenando pelo user - Número de tweets\n",
    "print(sorted(user, key=lambda user: user['username'], reverse=True))\n"
   ]
  },
  {
   "cell_type": "code",
   "execution_count": 23,
   "metadata": {},
   "outputs": [
    {
     "name": "stdout",
     "output_type": "stream",
     "text": [
      "[{'title': 'Rock in roll train', 'played': 33}, {'title': 'Thunderstruck', 'played': 30}, {'title': 'Back in black', 'played': 20}, {'title': 'Black ice', 'played': 2}]\n"
     ]
    }
   ],
   "source": [
    "# Último exemplo\n",
    "\n",
    "músicas = [\n",
    "    {'title': 'Thunderstruck', 'played': 30},\n",
    "    {'title': 'Back in black', 'played': 20},\n",
    "    {'title': 'Rock in roll train', 'played': 33},\n",
    "    {'title': 'Black ice', 'played': 2}\n",
    "]\n",
    "\n",
    "print(sorted(músicas, key= lambda música: música['played'], reverse=True)) # Aqui o sorted vai mostrar na ordem da mais para menos tocada"
   ]
  }
 ],
 "metadata": {
  "interpreter": {
   "hash": "2be5faf79681da6f2a61fdfdd5405d65d042280f7fba6178067603e3a2925119"
  },
  "kernelspec": {
   "display_name": "Python 3.10.3 64-bit",
   "language": "python",
   "name": "python3"
  },
  "language_info": {
   "codemirror_mode": {
    "name": "ipython",
    "version": 3
   },
   "file_extension": ".py",
   "mimetype": "text/x-python",
   "name": "python",
   "nbconvert_exporter": "python",
   "pygments_lexer": "ipython3",
   "version": "3.10.3"
  },
  "orig_nbformat": 4
 },
 "nbformat": 4,
 "nbformat_minor": 2
}
