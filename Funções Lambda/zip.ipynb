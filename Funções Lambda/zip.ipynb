{
 "cells": [
  {
   "cell_type": "markdown",
   "metadata": {},
   "source": [
    "# ZIP\n",
    "\n",
    "Ele cria um iterável que agrega elementos que agrega elemento de cada um dos iteráveis passados como pares."
   ]
  },
  {
   "cell_type": "code",
   "execution_count": 9,
   "metadata": {},
   "outputs": [
    {
     "name": "stdout",
     "output_type": "stream",
     "text": [
      "<zip object at 0x000001748C78B080> <class 'zip'>\n",
      "{1: 4, 2: 5, 3: 6}\n",
      "{}\n",
      "(1, 4, 7)\n"
     ]
    }
   ],
   "source": [
    "# Exemplificando\n",
    "\n",
    "lista1 = [1, 2, 3]\n",
    "lista2 = [4, 5, 6]\n",
    "\n",
    "objeto_zip = zip(lista1, lista2)\n",
    "\n",
    "print(objeto_zip, type(objeto_zip))\n",
    "# Traduzindo isso aqui, ele vai fazer como no c# e vai transformar os objetos em um vetor.\n",
    "print(dict(objeto_zip))\n",
    "\n",
    "# No caso de dicionários, ele vai pegar a primeira lista e fazer como se fosse a chave e a segunda lista o valor.\n",
    "print(dict(objeto_zip))\n",
    "\n",
    "# Mas e se colocarmos mais uma lista e essa lista for maior que as outras?\n",
    "\n",
    "lista3 = range(7, 12)\n",
    "objeto_zip = zip(lista1, lista2, lista3)\n",
    "resultado = list(objeto_zip)\n",
    "print(resultado[0])\n"
   ]
  },
  {
   "cell_type": "code",
   "execution_count": 11,
   "metadata": {},
   "outputs": [
    {
     "name": "stdout",
     "output_type": "stream",
     "text": [
      "{'Thiago': 99, 'Ana Clara': 82, 'Natan': 77}\n"
     ]
    }
   ],
   "source": [
    "# Na prática com map\n",
    "\n",
    "nota1 = [99, 31, 42]\n",
    "nota2 = [41, 82, 77]\n",
    "alunos = ['Thiago', 'Ana Clara', 'Natan']\n",
    "\n",
    "final = dict(zip(alunos, map(lambda x: max(x), zip(nota1, nota2)))) # Relembrando: Map é função + iteravel\n",
    "\n",
    "print(final)"
   ]
  }
 ],
 "metadata": {
  "interpreter": {
   "hash": "2be5faf79681da6f2a61fdfdd5405d65d042280f7fba6178067603e3a2925119"
  },
  "kernelspec": {
   "display_name": "Python 3.10.3 64-bit",
   "language": "python",
   "name": "python3"
  },
  "language_info": {
   "codemirror_mode": {
    "name": "ipython",
    "version": 3
   },
   "file_extension": ".py",
   "mimetype": "text/x-python",
   "name": "python",
   "nbconvert_exporter": "python",
   "pygments_lexer": "ipython3",
   "version": "3.10.3"
  },
  "orig_nbformat": 4
 },
 "nbformat": 4,
 "nbformat_minor": 2
}
