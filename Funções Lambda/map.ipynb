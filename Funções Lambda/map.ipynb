{
 "cells": [
  {
   "cell_type": "markdown",
   "metadata": {},
   "source": [
    "Maps / Mapas\n",
    "\n",
    "Mapas, diferente de Dicionário, fazemos mapeamentos de valores para a função\n"
   ]
  },
  {
   "cell_type": "code",
   "execution_count": 23,
   "metadata": {},
   "outputs": [
    {
     "name": "stdout",
     "output_type": "stream",
     "text": [
      "1385.4423602330987\n"
     ]
    }
   ],
   "source": [
    "import math as mt\n",
    "\n",
    "def area(r):\n",
    "    # Calcula a área de um círculo com raio R\n",
    "    return mt.pi * (r ** 2)\n",
    "\n",
    "print(area(21))"
   ]
  },
  {
   "cell_type": "code",
   "execution_count": 24,
   "metadata": {},
   "outputs": [
    {
     "name": "stdout",
     "output_type": "stream",
     "text": [
      "[3.141592653589793, 1256.6370614359173, 4778.362426110075, 1.5393804002589984, 907.9202768874502]\n"
     ]
    }
   ],
   "source": [
    "# Caso queiramos verificar quais são os valores de raio compreendidos dentro de um array por exemplo, esta é a forma mais comum de se fazer:\n",
    "\n",
    "raios =  [1, 20, 39, 0.7, 17]\n",
    "areas = [(area(r)) for r in raios]\n",
    "print(areas)"
   ]
  },
  {
   "cell_type": "code",
   "execution_count": 25,
   "metadata": {},
   "outputs": [
    {
     "name": "stdout",
     "output_type": "stream",
     "text": [
      "<class 'map'>\n",
      "(3.141592653589793, 1256.6370614359173, 4778.362426110075, 1.5393804002589984, 907.9202768874502)\n"
     ]
    }
   ],
   "source": [
    "# Utilizando mapas para fazer o mesmo trabalho\n",
    "\n",
    "mapeando = map(area, raios)\n",
    "print(type(mapeando))\n",
    "print(tuple(mapeando))"
   ]
  },
  {
   "cell_type": "markdown",
   "metadata": {},
   "source": [
    "Notas importantes\n",
    "\n",
    "Mapas são extremamente parecidos com uma coisa chamada dicionário, que recebe chave e valor, logo, para que um map funcione corretamente, é necessário que indiquemos dois valores para ele (ou chave e função).\n",
    "\n",
    "Após realizada a função, ele NÃO IRÁ IMPRIMIR, sendo necessário uma conversão para uma lista ou uma tupla\n",
    "\n",
    "Normalmente, não utilizamos funções nomeadas (def) dentro de um mapa, mas sim utilizaremos uma função lambda para isso como vemos abaixo"
   ]
  },
  {
   "cell_type": "code",
   "execution_count": 26,
   "metadata": {},
   "outputs": [
    {
     "name": "stdout",
     "output_type": "stream",
     "text": [
      "[3.141592653589793, 1256.6370614359173, 4778.362426110075, 1.5393804002589984, 907.9202768874502]\n"
     ]
    }
   ],
   "source": [
    "# Fazendo a mesma coisa da célula anterior, agora com uma função lambda\n",
    "\n",
    "mapeando = map(lambda r: mt.pi * (r ** 2), raios)\n",
    "print(list(mapeando))\n"
   ]
  },
  {
   "cell_type": "markdown",
   "metadata": {},
   "source": [
    "Mais uma caracteristica do mapas\n",
    "\n",
    "Depois da utilização do primeiro resultado, ele ZERA. Ou seja: tome cuidado e enderece para UMA PORRA DE UMA LISTA"
   ]
  },
  {
   "cell_type": "code",
   "execution_count": 27,
   "metadata": {},
   "outputs": [
    {
     "name": "stdout",
     "output_type": "stream",
     "text": [
      "<class 'list'>\n"
     ]
    }
   ],
   "source": [
    "outro_mapa = list(map(lambda r: mt.pi * (r ** 2), raios))\n",
    "print(type(outro_mapa))"
   ]
  }
 ],
 "metadata": {
  "interpreter": {
   "hash": "b3ba2566441a7c06988d0923437866b63cedc61552a5af99d1f4fb67d367b25f"
  },
  "kernelspec": {
   "display_name": "Python 3.8.8 64-bit ('base': conda)",
   "name": "python3"
  },
  "language_info": {
   "codemirror_mode": {
    "name": "ipython",
    "version": 3
   },
   "file_extension": ".py",
   "mimetype": "text/x-python",
   "name": "python",
   "nbconvert_exporter": "python",
   "pygments_lexer": "ipython3",
   "version": "3.8.8"
  },
  "orig_nbformat": 4
 },
 "nbformat": 4,
 "nbformat_minor": 2
}
