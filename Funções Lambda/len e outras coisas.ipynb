{
 "cells": [
  {
   "cell_type": "markdown",
   "metadata": {},
   "source": [
    "# Len, Abs, Sum e Round\n",
    "\n",
    "Len(): Retorna o tamanho (numero de ítens) de um iterável"
   ]
  },
  {
   "cell_type": "code",
   "execution_count": null,
   "metadata": {},
   "outputs": [],
   "source": [
    "print(len('Thiago e Ana Clara'))\n",
    "\n",
    "lista = list(range(1, 10))\n",
    "print(len(lista))"
   ]
  },
  {
   "cell_type": "markdown",
   "metadata": {},
   "source": [
    "Por baixo dos panos, quando utilizamos a função len, o python faz o seguinte:\n",
    "\n",
    "print('Thiago', __len__())"
   ]
  },
  {
   "cell_type": "code",
   "execution_count": null,
   "metadata": {},
   "outputs": [],
   "source": [
    "print('Thiago'.__len__()) # Essa é uma Dunder Function"
   ]
  },
  {
   "cell_type": "markdown",
   "metadata": {},
   "source": [
    "# ABS\n",
    "\n",
    "Ela retorna o valor absoluto de um número inteiro ou real. Equivalente ao módulo na matemática\n",
    "\n",
    "Não tem como fazer abs de strings."
   ]
  },
  {
   "cell_type": "code",
   "execution_count": null,
   "metadata": {},
   "outputs": [],
   "source": [
    "import math\n",
    "\n",
    "print(abs(-math.pi))\n",
    "print(abs(-2))"
   ]
  },
  {
   "cell_type": "markdown",
   "metadata": {},
   "source": [
    "# Sum\n",
    "\n",
    "Recebe parametro como iteravel, podendo receber um valor inicial e retorna a soma totoal dos elementos, incluindo o valor inicial.\n",
    "\n",
    "por padrão, valor inicial = 0."
   ]
  },
  {
   "cell_type": "code",
   "execution_count": null,
   "metadata": {},
   "outputs": [],
   "source": [
    "print(sum(range(1,10), 12))\n",
    "print(sum([1, 32]))\n",
    "print(sum(set(range(1,101)),50))"
   ]
  },
  {
   "cell_type": "markdown",
   "metadata": {},
   "source": [
    "# Round\n",
    "\n",
    "Retorna um número arredondado parar um n-digito para um número x de casas decimais"
   ]
  },
  {
   "cell_type": "code",
   "execution_count": null,
   "metadata": {},
   "outputs": [],
   "source": [
    "print(round(math.pi, 2))"
   ]
  }
 ],
 "metadata": {
  "interpreter": {
   "hash": "2be5faf79681da6f2a61fdfdd5405d65d042280f7fba6178067603e3a2925119"
  },
  "kernelspec": {
   "display_name": "Python 3.10.3 64-bit",
   "language": "python",
   "name": "python3"
  },
  "language_info": {
   "codemirror_mode": {
    "name": "ipython",
    "version": 3
   },
   "file_extension": ".py",
   "mimetype": "text/x-python",
   "name": "python",
   "nbconvert_exporter": "python",
   "pygments_lexer": "ipython3",
   "version": "3.10.3"
  },
  "orig_nbformat": 4
 },
 "nbformat": 4,
 "nbformat_minor": 2
}
