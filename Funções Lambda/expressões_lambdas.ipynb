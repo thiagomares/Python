{
 "cells": [
  {
   "cell_type": "markdown",
   "metadata": {},
   "source": [
    "Expressões Lambda\n",
    "\n",
    "Conhecidas por expressões lambdas, são funções sem nome, ou seja, funções anonimas.\n"
   ]
  },
  {
   "cell_type": "code",
   "execution_count": 23,
   "metadata": {},
   "outputs": [
    {
     "name": "stdout",
     "output_type": "stream",
     "text": [
      "5\n"
     ]
    }
   ],
   "source": [
    "# Relembrando uma Função em Python\n",
    "\n",
    "def soma(a,b):\n",
    "    return a + b\n",
    "\n",
    "resultado = soma\n",
    "print(resultado(2, 3))\n"
   ]
  },
  {
   "cell_type": "code",
   "execution_count": 24,
   "metadata": {},
   "outputs": [
    {
     "name": "stdout",
     "output_type": "stream",
     "text": [
      "4\n"
     ]
    }
   ],
   "source": [
    "# Criando uma função Lambda\n",
    "\n",
    "lambda x, y: y + x\n",
    "\n",
    "# Como utilizar a expressão lambda? simples, indicando para uma variável\n",
    "\n",
    "valor  = lambda x,y: x + y\n",
    "print(valor(2, 2))\n"
   ]
  },
  {
   "cell_type": "markdown",
   "metadata": {},
   "source": [
    "Criar uma variável para receber a expressão lambda não é a melhor forma de se  criar uma expressão lambda, existem outras formas para de se utilizar lambdas"
   ]
  },
  {
   "cell_type": "code",
   "execution_count": 25,
   "metadata": {},
   "outputs": [
    {
     "name": "stdout",
     "output_type": "stream",
     "text": [
      "Thiago Mares\n"
     ]
    }
   ],
   "source": [
    "# Podemos ter expressões lambdas com várias entradas\n",
    "\n",
    "nome_completo = lambda nome, sobrenome: nome.strip().capitalize() + \" \" + sobrenome.strip().title()\n",
    "\n",
    "print(nome_completo('thiago', 'mares'))"
   ]
  },
  {
   "cell_type": "markdown",
   "metadata": {},
   "source": [
    "Nota Rapida:\n",
    "\n",
    "Strip remove espaços antes e depois da string\n",
    "Title faz com que a primeira letra da string fique em uppercase, como uma espécie de capitalize"
   ]
  },
  {
   "cell_type": "code",
   "execution_count": 30,
   "metadata": {},
   "outputs": [
    {
     "name": "stdout",
     "output_type": "stream",
     "text": [
      "Olá Mundo\n"
     ]
    }
   ],
   "source": [
    "# As vezes, a gente só precisa fazer uma expressão lambda sem argumentos\n",
    "\n",
    "sem_args = lambda *args: \"Olá Mundo\"\n",
    "\n",
    "print(sem_args())"
   ]
  },
  {
   "cell_type": "markdown",
   "metadata": {},
   "source": [
    "Como diria o tio: Mais uma coisa\n",
    "\n",
    "Se passarmos um número maior de argumentos, teremos typeerror, mas nada impede de colocar um args ou kwargs"
   ]
  },
  {
   "cell_type": "code",
   "execution_count": 33,
   "metadata": {},
   "outputs": [
    {
     "name": "stdout",
     "output_type": "stream",
     "text": [
      "Olá Mundo\n"
     ]
    }
   ],
   "source": [
    "print(sem_args())"
   ]
  },
  {
   "cell_type": "code",
   "execution_count": 35,
   "metadata": {},
   "outputs": [
    {
     "name": "stdout",
     "output_type": "stream",
     "text": [
      "['Isaac Asimov', 'Machado de Assis', 'Stephen Hawking', 'Isaac Newton', 'JK Rowling', 'JKK Tolkien']\n"
     ]
    }
   ],
   "source": [
    "# Ordenando nomes de pessoas pelo sobrenome\n",
    "\n",
    "autores = ['Machado de Assis', \"JK Rowling\", 'Isaac Asimov', 'JKK Tolkien', 'Isaac Newton', 'Stephen Hawking']\n",
    "\n",
    "autores.sort(key = lambda sobrenome: sobrenome.split(\" \")[-1].lower())\n",
    "\n",
    "print(autores)"
   ]
  },
  {
   "cell_type": "markdown",
   "metadata": {},
   "source": [
    "Na celula anterior, nos estamos separando os nomes por espaço, e depois, dividindo os dois, estamos ordenando de forma inversa os valores (no caso, o sobrenome) e ordenando no array"
   ]
  },
  {
   "cell_type": "code",
   "execution_count": 41,
   "metadata": {},
   "outputs": [
    {
     "name": "stdout",
     "output_type": "stream",
     "text": [
      "199\n"
     ]
    }
   ],
   "source": [
    "# Criando uma função quadrática com função lambda\n",
    "# O que é uma função quadrática? ax² + bx + c\n",
    "\n",
    "# Fazendo uma função quadrática com def\n",
    "def funcao_segundograu(a, b, c):\n",
    "    return lambda x: a*x**2 + b*x + c\n",
    "\n",
    "\n",
    "teste = funcao_segundograu(2, 3, 10) # Aqui estamos falando os valores constantes da função\n",
    "print(teste(9))"
   ]
  },
  {
   "cell_type": "markdown",
   "metadata": {},
   "source": [
    "Geralmente, utilizamos de funções lambda para ordenar valores e dados, como fizemos com o nome dos autores"
   ]
  }
 ],
 "metadata": {
  "interpreter": {
   "hash": "b3ba2566441a7c06988d0923437866b63cedc61552a5af99d1f4fb67d367b25f"
  },
  "kernelspec": {
   "display_name": "Python 3.8.8 64-bit ('base': conda)",
   "name": "python3"
  },
  "language_info": {
   "codemirror_mode": {
    "name": "ipython",
    "version": 3
   },
   "file_extension": ".py",
   "mimetype": "text/x-python",
   "name": "python",
   "nbconvert_exporter": "python",
   "pygments_lexer": "ipython3",
   "version": "3.8.8"
  },
  "orig_nbformat": 4
 },
 "nbformat": 4,
 "nbformat_minor": 2
}
