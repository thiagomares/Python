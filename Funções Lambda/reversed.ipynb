{
 "cells": [
  {
   "cell_type": "markdown",
   "metadata": {},
   "source": [
    "# Reversed\n",
    "\n",
    "Obs: Não confunda com a função reverse, que estudamos nas listas.\n",
    "\n"
   ]
  },
  {
   "cell_type": "code",
   "execution_count": 8,
   "metadata": {},
   "outputs": [
    {
     "name": "stdout",
     "output_type": "stream",
     "text": [
      "[9, 8, 7, 6, 5, 4, 3, 2, 1]\n"
     ]
    }
   ],
   "source": [
    "# Relembrando o reverse\n",
    "\n",
    "lista = list(range(1, 10))\n",
    "lista.reverse() # A função reverse funciona somente em listas\n",
    "print(lista)"
   ]
  },
  {
   "cell_type": "markdown",
   "metadata": {},
   "source": [
    "No caso do reversed, ele funciona com qualquer tipo de objeto"
   ]
  },
  {
   "cell_type": "code",
   "execution_count": 25,
   "metadata": {},
   "outputs": [
    {
     "name": "stdout",
     "output_type": "stream",
     "text": [
      "<list_reverseiterator object at 0x0000017BAA8A3520>\n",
      "(1, 2, 3, 4, 5, 6, 7, 8, 9) {1, 2, 3, 4, 5, 6, 7, 8, 9}\n",
      "oirártnoc oa éta oma eT['o', 'i', 'r', 'á', 'r', 't', 'n', 'o', 'c', ' ', 'o', 'a', ' ', 'é', 't', 'a', ' ', 'o', 'm', 'a', ' ', 'e', 'T']\n"
     ]
    }
   ],
   "source": [
    "# Exemplos com reversed\n",
    "\n",
    "ao_contrario = reversed(lista)\n",
    "print(ao_contrario)\n",
    "\n",
    "# Podemos converter o elemento retornado para uma lista, tupla ou set\n",
    "tupla = tuple(ao_contrario)\n",
    "print(tupla, set(reversed(lista))) # Relembre que em conjuntos nos não definimos a ordem.\n",
    "\n",
    "# Podemos iterar no reserved\n",
    "\n",
    "for letra in reversed('Te amo até ao contrário'):\n",
    "    print(letra, end=\"\")\n",
    "\n",
    "\n",
    "# Fazendo uso do reversed sem o for\n",
    "\n",
    "invertido = lambda x: reversed(x)\n",
    "\n",
    "print(list(invertido('Te amo até ao contrário')))"
   ]
  }
 ],
 "metadata": {
  "interpreter": {
   "hash": "2be5faf79681da6f2a61fdfdd5405d65d042280f7fba6178067603e3a2925119"
  },
  "kernelspec": {
   "display_name": "Python 3.10.3 64-bit",
   "language": "python",
   "name": "python3"
  },
  "language_info": {
   "codemirror_mode": {
    "name": "ipython",
    "version": 3
   },
   "file_extension": ".py",
   "mimetype": "text/x-python",
   "name": "python",
   "nbconvert_exporter": "python",
   "pygments_lexer": "ipython3",
   "version": "3.10.3"
  },
  "orig_nbformat": 4
 },
 "nbformat": 4,
 "nbformat_minor": 2
}
