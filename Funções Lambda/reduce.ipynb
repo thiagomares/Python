{
 "cells": [
  {
   "cell_type": "markdown",
   "metadata": {},
   "source": [
    "# Função Reduce\n",
    "\n",
    "A partir do Python3, o Reduce não é mais uma função build-in do Python\n",
    "\n",
    "Agora, para utilizarmos o reduce, necessitamos importar a lib functools e daí sim utilizá-la.\n",
    "\n",
    "Segundo o próprio criador da lang, somente utilize a função se realmente precisar dela, mas em 99% dos casos, um loop for é mais legível.\n",
    "\n",
    "Para Entender o reduce:\n",
    "Imagine que você tem uma coleção de dados e você tem uma função que recebe dois parâmetros (x e y)\n",
    "\n",
    "colecao = [a, b, c, d...y, z]\n",
    "\n",
    "\n",
    "def funcao (x, y):\n",
    "    return x*y\n",
    "\n",
    "a função reduce funciona da seguinte forma\n",
    "\n",
    "reduce(funcao, iteravel)\n"
   ]
  },
  {
   "cell_type": "code",
   "execution_count": 3,
   "metadata": {},
   "outputs": [
    {
     "name": "stdout",
     "output_type": "stream",
     "text": [
      "4950\n"
     ]
    }
   ],
   "source": [
    "from functools import reduce\n",
    "\n",
    "iteravel = range(1, 100)\n",
    "\n",
    "resultado = reduce(lambda x, y: x + y, iteravel)\n",
    "\n",
    "print (resultado)\n"
   ]
  }
 ],
 "metadata": {
  "interpreter": {
   "hash": "2be5faf79681da6f2a61fdfdd5405d65d042280f7fba6178067603e3a2925119"
  },
  "kernelspec": {
   "display_name": "Python 3.10.0 64-bit",
   "language": "python",
   "name": "python3"
  },
  "language_info": {
   "codemirror_mode": {
    "name": "ipython",
    "version": 3
   },
   "file_extension": ".py",
   "mimetype": "text/x-python",
   "name": "python",
   "nbconvert_exporter": "python",
   "pygments_lexer": "ipython3",
   "version": "3.8.8"
  },
  "orig_nbformat": 4
 },
 "nbformat": 4,
 "nbformat_minor": 2
}
