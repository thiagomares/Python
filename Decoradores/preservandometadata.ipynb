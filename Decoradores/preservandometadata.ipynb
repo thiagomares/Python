{
 "cells": [
  {
   "cell_type": "markdown",
   "metadata": {},
   "source": [
    "# Preservando Metadata com wraps\n",
    "\n",
    "O que caralhos seria metadatas?\n",
    "São dados intríssecos em arquivos.\n",
    "\n",
    "O que são wraps?\n",
    "São funções que envolvem elementos com diversos elementos"
   ]
  },
  {
   "cell_type": "code",
   "execution_count": 1,
   "metadata": {},
   "outputs": [
    {
     "name": "stdout",
     "output_type": "stream",
     "text": [
      "você está chamando soma\n",
      "Documentação:  Soma dois numeros \n",
      "3\n",
      "logar\n",
      " função log aninhada \n"
     ]
    }
   ],
   "source": [
    "# Problema\n",
    "\n",
    "def ver_log(funcao):\n",
    "    def logar(*args, **kwargs):\n",
    "        \"\"\" função log aninhada \"\"\" \n",
    "        print(f'você está chamando {funcao.__name__}')\n",
    "        print(f'Documentação: {funcao.__doc__}')\n",
    "        return funcao(*args, **kwargs)\n",
    "    return logar\n",
    "\n",
    "@ver_log\n",
    "def soma(a, b):\n",
    "    \"\"\" Soma dois numeros \"\"\"\n",
    "    return a+b\n",
    "\n",
    "print(soma(1, 2))\n",
    "\n",
    "# Mostrando erros\n",
    "print(soma.__name__)\n",
    "print(soma.__doc__)\n",
    "\n",
    "# Quando vimos esses dados, ele deve mostar o nome da função e o que está na documentação, contudo, ele exibe o conteudo que está inserido dentro do decorador\n",
    "\n"
   ]
  },
  {
   "cell_type": "code",
   "execution_count": 3,
   "metadata": {},
   "outputs": [
    {
     "name": "stdout",
     "output_type": "stream",
     "text": [
      "soma\n",
      " Soma dois numeros \n"
     ]
    }
   ],
   "source": [
    "# Resolvendo\n",
    "from functools import wraps\n",
    "\n",
    "def ver_log(funcao):\n",
    "    @wraps(funcao) # Deve-se inserir junto a função\n",
    "    def logar(*args, **kwargs):\n",
    "        \"\"\" função log aninhada \"\"\" \n",
    "        print(f'você está chamando {funcao.__name__}')\n",
    "        print(f'Documentação: {funcao.__doc__}')\n",
    "        return funcao(*args, **kwargs)\n",
    "    return logar\n",
    "\n",
    "@ver_log\n",
    "def soma(a, b):\n",
    "    \"\"\" Soma dois numeros \"\"\"\n",
    "    return a+b\n",
    "\n",
    "print(soma.__name__)\n",
    "print(soma.__doc__)"
   ]
  }
 ],
 "metadata": {
  "kernelspec": {
   "display_name": "Python 3.10.6 64-bit",
   "language": "python",
   "name": "python3"
  },
  "language_info": {
   "codemirror_mode": {
    "name": "ipython",
    "version": 3
   },
   "file_extension": ".py",
   "mimetype": "text/x-python",
   "name": "python",
   "nbconvert_exporter": "python",
   "pygments_lexer": "ipython3",
   "version": "3.10.6"
  },
  "orig_nbformat": 4,
  "vscode": {
   "interpreter": {
    "hash": "d044c6e0ce06759120adefce77398d00e1228e64d92f3f185fbd024a7701b8e0"
   }
  }
 },
 "nbformat": 4,
 "nbformat_minor": 2
}
