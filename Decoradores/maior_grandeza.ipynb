{
 "cells": [
  {
   "cell_type": "markdown",
   "metadata": {},
   "source": [
    "# Funções de Maior grandeza (HOF - Higher Order Functions)\n",
    "\n",
    "# O que isso significa?\n",
    "\n",
    "Quando uma linguagem (independente de qual seja) suporta este conceito, indica que podemos ter funções que retornam outras funções como resultado ou mesmo que podemos passar funções como argumentos para outras funções e até mesmo criar variáveis do tipo função nos nossos programas/scripts.\n",
    "\n",
    "Em python, as funções são First Class citizens\n"
   ]
  },
  {
   "cell_type": "code",
   "execution_count": 1,
   "metadata": {},
   "outputs": [
    {
     "name": "stdout",
     "output_type": "stream",
     "text": [
      "6\n"
     ]
    }
   ],
   "source": [
    "# Exemplo - Definindo as funções\n",
    "\n",
    "def soma(a, b):\n",
    "    return a+b\n",
    "\n",
    "\n",
    "def subrai(a, b):\n",
    "    return a-b\n",
    "\n",
    "\n",
    "def multiplica(a, b):\n",
    "    return a*b\n",
    "\n",
    "\n",
    "def calcular(a, b, calculo):\n",
    "    return calculo(a, b)\n",
    "\n",
    "\n",
    "# testando as funçoes\n",
    "print(calcular(2, 3, multiplica))\n"
   ]
  },
  {
   "cell_type": "markdown",
   "metadata": {},
   "source": [
    "Em Python, podemos ter funçoes dentro de outras funções, que são conhecidas como funções aninhadas ou funções internas"
   ]
  },
  {
   "cell_type": "code",
   "execution_count": 13,
   "metadata": {},
   "outputs": [
    {
     "name": "stdout",
     "output_type": "stream",
     "text": [
      "oi Thiago\n"
     ]
    }
   ],
   "source": [
    "# Funções aninhadas\n",
    "from random import choice\n",
    "\n",
    "def funcao_pai(pessoa):\n",
    "    def funcao_filho1():\n",
    "        return choice(['oi ', 'tchau ', 'suma '])\n",
    "    return funcao_filho1() + pessoa\n",
    "\n",
    "print(funcao_pai('Thiago'))"
   ]
  },
  {
   "cell_type": "code",
   "execution_count": 14,
   "metadata": {},
   "outputs": [
    {
     "name": "stdout",
     "output_type": "stream",
     "text": [
      "<function rir.<locals>.risada at 0x7fa7dde87ac0>\n"
     ]
    }
   ],
   "source": [
    "# Retornando funções de outras funçoes\n",
    "\n",
    "def rir():\n",
    "    def risada():\n",
    "        return choice('hahahaha', 'hehe', 'kkkk')\n",
    "    return risada\n",
    "\n",
    "rindo = rir()\n",
    "print(rindo)\n"
   ]
  }
 ],
 "metadata": {
  "kernelspec": {
   "display_name": "Python 3.10.4 64-bit",
   "language": "python",
   "name": "python3"
  },
  "language_info": {
   "codemirror_mode": {
    "name": "ipython",
    "version": 3
   },
   "file_extension": ".py",
   "mimetype": "text/x-python",
   "name": "python",
   "nbconvert_exporter": "python",
   "pygments_lexer": "ipython3",
   "version": "3.10.4"
  },
  "orig_nbformat": 4,
  "vscode": {
   "interpreter": {
    "hash": "e7370f93d1d0cde622a1f8e1c04877d8463912d04d973331ad4851f04de6915a"
   }
  }
 },
 "nbformat": 4,
 "nbformat_minor": 2
}
