{
 "cells": [
  {
   "cell_type": "markdown",
   "metadata": {},
   "source": [
    "# Funções de Maior grandeza (HOF - Higher Order Functions)\n",
    "\n",
    "# O que isso significa?\n",
    "\n",
    "Quando uma linguagem (independente de qual seja) suporta este conceito, indica que podemos ter funções que retornam outras funções como resultado ou mesmo que podemos passar funções como argumentos para outras funções e até mesmo criar variáveis do tipo função nos nossos programas/scripts.\n",
    "\n",
    "Em python, as funções são First Class citizens\n"
   ]
  },
  {
   "cell_type": "code",
   "execution_count": 1,
   "metadata": {
    "tags": []
   },
   "outputs": [
    {
     "name": "stdout",
     "output_type": "stream",
     "text": [
      "6\n"
     ]
    }
   ],
   "source": [
    "# Exemplo - Definindo as funções\n",
    "\n",
    "def soma(a, b):\n",
    "    return a+b\n",
    "\n",
    "\n",
    "def subrai(a, b):\n",
    "    return a-b\n",
    "\n",
    "\n",
    "def multiplica(a, b):\n",
    "    return a*b\n",
    "\n",
    "\n",
    "def calcular(a, b, calculo):\n",
    "    return calculo(a, b)\n",
    "\n",
    "\n",
    "# testando as funçoes\n",
    "print(calcular(2, 3, multiplica))\n"
   ]
  },
  {
   "cell_type": "markdown",
   "metadata": {},
   "source": [
    "Em Python, podemos ter funçoes dentro de outras funções, que são conhecidas como funções aninhadas ou funções internas"
   ]
  },
  {
   "cell_type": "code",
   "execution_count": 13,
   "metadata": {
    "tags": []
   },
   "outputs": [
    {
     "name": "stdout",
     "output_type": "stream",
     "text": [
      "oi Thiago\n"
     ]
    }
   ],
   "source": [
    "# Funções aninhadas\n",
    "from random import choice\n",
    "\n",
    "def funcao_pai(pessoa):\n",
    "    def funcao_filho1():\n",
    "        return choice(['oi ', 'tchau ', 'suma '])\n",
    "    return funcao_filho1() + pessoa\n",
    "\n",
    "print(funcao_pai('Thiago'))"
   ]
  },
  {
   "cell_type": "code",
   "execution_count": 5,
   "metadata": {},
   "outputs": [
    {
     "ename": "TypeError",
     "evalue": "Random.choice() takes 2 positional arguments but 4 were given",
     "output_type": "error",
     "traceback": [
      "\u001b[1;31m---------------------------------------------------------------------------\u001b[0m",
      "\u001b[1;31mTypeError\u001b[0m                                 Traceback (most recent call last)",
      "\u001b[1;32mg:\\Meu Drive\\Backup\\Python\\Decoradores\\maior_grandeza.ipynb Célula: 5\u001b[0m in \u001b[0;36m<cell line: 10>\u001b[1;34m()\u001b[0m\n\u001b[0;32m      <a href='vscode-notebook-cell:/g%3A/Meu%20Drive/Backup/Python/Decoradores/maior_grandeza.ipynb#W4sZmlsZQ%3D%3D?line=6'>7</a>\u001b[0m     \u001b[39mreturn\u001b[39;00m risada\n\u001b[0;32m      <a href='vscode-notebook-cell:/g%3A/Meu%20Drive/Backup/Python/Decoradores/maior_grandeza.ipynb#W4sZmlsZQ%3D%3D?line=8'>9</a>\u001b[0m rindo \u001b[39m=\u001b[39m rir()\n\u001b[1;32m---> <a href='vscode-notebook-cell:/g%3A/Meu%20Drive/Backup/Python/Decoradores/maior_grandeza.ipynb#W4sZmlsZQ%3D%3D?line=9'>10</a>\u001b[0m \u001b[39mprint\u001b[39m(rindo())\n",
      "\u001b[1;32mg:\\Meu Drive\\Backup\\Python\\Decoradores\\maior_grandeza.ipynb Célula: 5\u001b[0m in \u001b[0;36mrir.<locals>.risada\u001b[1;34m()\u001b[0m\n\u001b[0;32m      <a href='vscode-notebook-cell:/g%3A/Meu%20Drive/Backup/Python/Decoradores/maior_grandeza.ipynb#W4sZmlsZQ%3D%3D?line=4'>5</a>\u001b[0m \u001b[39mdef\u001b[39;00m \u001b[39mrisada\u001b[39m():\n\u001b[1;32m----> <a href='vscode-notebook-cell:/g%3A/Meu%20Drive/Backup/Python/Decoradores/maior_grandeza.ipynb#W4sZmlsZQ%3D%3D?line=5'>6</a>\u001b[0m     \u001b[39mreturn\u001b[39;00m choice(\u001b[39m'\u001b[39;49m\u001b[39mhahahaha\u001b[39;49m\u001b[39m'\u001b[39;49m, \u001b[39m'\u001b[39;49m\u001b[39mhehe\u001b[39;49m\u001b[39m'\u001b[39;49m, \u001b[39m'\u001b[39;49m\u001b[39mkkkk\u001b[39;49m\u001b[39m'\u001b[39;49m)\n",
      "\u001b[1;31mTypeError\u001b[0m: Random.choice() takes 2 positional arguments but 4 were given"
     ]
    }
   ],
   "source": [
    "# Retornando funções de outras funçoes\n",
    "from random import choice\n",
    "\n",
    "def rir():\n",
    "    def risada():\n",
    "        return choice(['hahahaha', 'hehe', 'kkkk'])\n",
    "    return risada\n",
    "\n",
    "rindo = rir()\n",
    "print(rindo())\n"
   ]
  }
 ],
 "metadata": {
  "kernelspec": {
   "display_name": "Python 3.10.6 64-bit",
   "language": "python",
   "name": "python3"
  },
  "language_info": {
   "codemirror_mode": {
    "name": "ipython",
    "version": 3
   },
   "file_extension": ".py",
   "mimetype": "text/x-python",
   "name": "python",
   "nbconvert_exporter": "python",
   "pygments_lexer": "ipython3",
   "version": "3.10.6"
  },
  "orig_nbformat": 4,
  "vscode": {
   "interpreter": {
    "hash": "d044c6e0ce06759120adefce77398d00e1228e64d92f3f185fbd024a7701b8e0"
   }
  }
 },
 "nbformat": 4,
 "nbformat_minor": 2
}
