{
 "cells": [
  {
   "cell_type": "markdown",
   "metadata": {},
   "source": [
    "# Funções de Maior grandeza (HOF - Higher Order Functions)\n",
    "\n",
    "# O que isso significa?\n",
    "\n",
    "Quando uma linguagem (independente de qual seja) suporta este conceito, indica que podemos ter funções que retornam outras funções como resultado ou mesmo que podemos passar funções como argumentos para outras funções e até mesmo criar variáveis do tipo função nos nossos programas/scripts.\n",
    "\n",
    "Em python, as funções são First Class citizens\n"
   ]
  },
  {
   "cell_type": "code",
   "execution_count": 1,
   "metadata": {},
   "outputs": [
    {
     "name": "stdout",
     "output_type": "stream",
     "text": [
      "6\n"
     ]
    }
   ],
   "source": [
    "# Exemplo - Definindo as funções\n",
    "\n",
    "def soma(a, b):\n",
    "    return a+b\n",
    "\n",
    "\n",
    "def subrai(a, b):\n",
    "    return a-b\n",
    "\n",
    "\n",
    "def multiplica(a, b):\n",
    "    return a*b\n",
    "\n",
    "\n",
    "def calcular(a, b, calculo):\n",
    "    return calculo(a, b)\n",
    "\n",
    "\n",
    "# testando as funçoes\n",
    "print(calcular(2, 3, multiplica))\n"
   ]
  }
 ],
 "metadata": {
  "kernelspec": {
   "display_name": "Python 3.10.4 64-bit",
   "language": "python",
   "name": "python3"
  },
  "language_info": {
   "codemirror_mode": {
    "name": "ipython",
    "version": 3
   },
   "file_extension": ".py",
   "mimetype": "text/x-python",
   "name": "python",
   "nbconvert_exporter": "python",
   "pygments_lexer": "ipython3",
   "version": "3.10.4"
  },
  "orig_nbformat": 4,
  "vscode": {
   "interpreter": {
    "hash": "e7370f93d1d0cde622a1f8e1c04877d8463912d04d973331ad4851f04de6915a"
   }
  }
 },
 "nbformat": 4,
 "nbformat_minor": 2
}
