{
 "cells": [
  {
   "cell_type": "markdown",
   "metadata": {},
   "source": [
    "# Decoradores\n",
    "\n",
    "O que são decoradores?\n",
    "\n",
    "- Decorators são funções; \n",
    "- Decorators envolvem funções e aprimoram seus comportamentos.\n",
    "- Decorators são exemplos de HOF\n",
    "- Decorators tem sintaxe própria, utilizando @\n",
    "\n"
   ]
  },
  {
   "cell_type": "code",
   "execution_count": 1,
   "metadata": {},
   "outputs": [
    {
     "name": "stdout",
     "output_type": "stream",
     "text": [
      "foi um prazer te conhecer\n",
      "seja bem vindo\n",
      "tenha um ótimo dia\n"
     ]
    }
   ],
   "source": [
    "# Decorators como funções (sintaxe ñ recomendada)\n",
    "\n",
    "# A tal da função decorator\n",
    "def educado(funcao):\n",
    "    def to_be():\n",
    "        print('foi um prazer te conhecer')\n",
    "        funcao()\n",
    "        print('tenha um ótimo dia')\n",
    "    return to_be\n",
    "\n",
    "# Uma função qualquer\n",
    "\n",
    "def saudacao():\n",
    "    print('seja bem vindo')\n",
    "\n",
    "\n",
    "# Testando\n",
    "\n",
    "teste = educado(saudacao)\n",
    "teste()\n"
   ]
  },
  {
   "cell_type": "code",
   "execution_count": 4,
   "metadata": {},
   "outputs": [
    {
     "name": "stdout",
     "output_type": "stream",
     "text": [
      "hey\n",
      "thiago\n",
      "have a nice day\n"
     ]
    }
   ],
   "source": [
    "# Com a sintaxe correta\n",
    "\n",
    "def educado(funcao):\n",
    "    def sendo():\n",
    "        print('hey')\n",
    "        funcao()\n",
    "        print('have a nice day')\n",
    "    return sendo\n",
    "\n",
    "@educado\n",
    "def nome():\n",
    "    print('thiago')\n",
    "\n",
    "nome()"
   ]
  }
 ],
 "metadata": {
  "kernelspec": {
   "display_name": "Python 3.10.4 64-bit",
   "language": "python",
   "name": "python3"
  },
  "language_info": {
   "codemirror_mode": {
    "name": "ipython",
    "version": 3
   },
   "file_extension": ".py",
   "mimetype": "text/x-python",
   "name": "python",
   "nbconvert_exporter": "python",
   "pygments_lexer": "ipython3",
   "version": "3.10.4"
  },
  "orig_nbformat": 4,
  "vscode": {
   "interpreter": {
    "hash": "e7370f93d1d0cde622a1f8e1c04877d8463912d04d973331ad4851f04de6915a"
   }
  }
 },
 "nbformat": 4,
 "nbformat_minor": 2
}
