{
 "cells": [
  {
   "cell_type": "markdown",
   "metadata": {},
   "source": [
    "# Decoradores\n",
    "\n",
    "O que são decoradores?\n",
    "\n",
    "- Decorators são funções; \n",
    "- Decorators envolvem funções e aprimoram seus comportamentos.\n",
    "- Decorators são exemplos de HOF\n",
    "- Decorators tem sintaxe própria, utilizando @\n",
    "\n"
   ]
  },
  {
   "cell_type": "code",
   "execution_count": 1,
   "metadata": {},
   "outputs": [
    {
     "name": "stdout",
     "output_type": "stream",
     "text": [
      "foi um prazer te conhecer\n",
      "seja bem vindo\n",
      "tenha um ótimo dia\n"
     ]
    }
   ],
   "source": [
    "# Decorators como funções (sintaxe ñ recomendada)\n",
    "\n",
    "# A tal da função decorator\n",
    "def educado(funcao):\n",
    "    def to_be():\n",
    "        print('foi um prazer te conhecer')\n",
    "        funcao()\n",
    "        print('tenha um ótimo dia')\n",
    "    return to_be\n",
    "\n",
    "# Uma função qualquer\n",
    "\n",
    "def saudacao():\n",
    "    print('seja bem vindo')\n",
    "\n",
    "\n",
    "# Testando\n",
    "teste = educado(saudacao)\n",
    "teste()\n"
   ]
  },
  {
   "cell_type": "code",
   "execution_count": 1,
   "metadata": {},
   "outputs": [
    {
     "ename": "TypeError",
     "evalue": "educado.<locals>.sendo() takes 0 positional arguments but 1 was given",
     "output_type": "error",
     "traceback": [
      "\u001b[1;31m---------------------------------------------------------------------------\u001b[0m",
      "\u001b[1;31mTypeError\u001b[0m                                 Traceback (most recent call last)",
      "\u001b[1;32mg:\\Meu Drive\\Backup\\Python\\Decoradores\\decoradores.ipynb Célula 3\u001b[0m in \u001b[0;36m<cell line: 14>\u001b[1;34m()\u001b[0m\n\u001b[0;32m     <a href='vscode-notebook-cell:/g%3A/Meu%20Drive/Backup/Python/Decoradores/decoradores.ipynb#W2sZmlsZQ%3D%3D?line=9'>10</a>\u001b[0m \u001b[39m@educado\u001b[39m\n\u001b[0;32m     <a href='vscode-notebook-cell:/g%3A/Meu%20Drive/Backup/Python/Decoradores/decoradores.ipynb#W2sZmlsZQ%3D%3D?line=10'>11</a>\u001b[0m \u001b[39mdef\u001b[39;00m \u001b[39mnome\u001b[39m(Nome):\n\u001b[0;32m     <a href='vscode-notebook-cell:/g%3A/Meu%20Drive/Backup/Python/Decoradores/decoradores.ipynb#W2sZmlsZQ%3D%3D?line=11'>12</a>\u001b[0m     \u001b[39mprint\u001b[39m(Nome)\n\u001b[1;32m---> <a href='vscode-notebook-cell:/g%3A/Meu%20Drive/Backup/Python/Decoradores/decoradores.ipynb#W2sZmlsZQ%3D%3D?line=13'>14</a>\u001b[0m nome(\u001b[39m'\u001b[39;49m\u001b[39mThiago\u001b[39;49m\u001b[39m'\u001b[39;49m)\n",
      "\u001b[1;31mTypeError\u001b[0m: educado.<locals>.sendo() takes 0 positional arguments but 1 was given"
     ]
    }
   ],
   "source": [
    "# Com a sintaxe correta\n",
    "\n",
    "def educado(funcao):\n",
    "    def sendo():\n",
    "        print('hey')\n",
    "        funcao()\n",
    "        print('have a nice day')\n",
    "    return sendo\n",
    "\n",
    "@educado\n",
    "def nome():\n",
    "    print('thiago')\n",
    "\n",
    "nome()"
   ]
  }
 ],
 "metadata": {
  "kernelspec": {
   "display_name": "Python 3.10.6 64-bit",
   "language": "python",
   "name": "python3"
  },
  "language_info": {
   "codemirror_mode": {
    "name": "ipython",
    "version": 3
   },
   "file_extension": ".py",
   "mimetype": "text/x-python",
   "name": "python",
   "nbconvert_exporter": "python",
   "pygments_lexer": "ipython3",
   "version": "3.10.6"
  },
  "orig_nbformat": 4,
  "vscode": {
   "interpreter": {
    "hash": "d044c6e0ce06759120adefce77398d00e1228e64d92f3f185fbd024a7701b8e0"
   }
  }
 },
 "nbformat": 4,
 "nbformat_minor": 2
}
