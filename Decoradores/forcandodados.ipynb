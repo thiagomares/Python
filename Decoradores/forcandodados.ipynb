{
 "cells": [
  {
   "cell_type": "markdown",
   "metadata": {},
   "source": [
    "# Forçando tipo de dados com decoradores\n",
    "\n",
    "<h2>Relembrando</h2>\n",
    "Em python, nos não declaramos um tipo de dado.\n"
   ]
  },
  {
   "cell_type": "code",
   "execution_count": 9,
   "metadata": {},
   "outputs": [
    {
     "name": "stdout",
     "output_type": "stream",
     "text": [
      "Thiago\n",
      "Thiago\n",
      "Thiago\n",
      "Thiago\n",
      "Thiago\n",
      "Thiago\n",
      "Thiago\n",
      "Thiago\n",
      "Thiago\n",
      "Thiago\n",
      "Thiago\n",
      "Thiago\n",
      "Thiago\n",
      "Thiago\n",
      "Thiago\n"
     ]
    }
   ],
   "source": [
    "def forca_dados(*tipos):\n",
    "    def decorador(funcao):\n",
    "        def converter(*args, **kwargs):\n",
    "            novo_args = []\n",
    "            for (valor, tipo) in zip(args, tipos):\n",
    "                novo_args.append(tipo(valor))\n",
    "            return funcao(*args, **kwargs)\n",
    "        return converter\n",
    "    return decorador\n",
    "\n",
    "\n",
    "@forca_dados(str, int)\n",
    "def repete_msg(msg, vezes):\n",
    "    for vez in range(vezes):\n",
    "        print(msg)\n",
    "\n",
    "repete_msg('Thiago', 25)\n"
   ]
  }
 ],
 "metadata": {
  "kernelspec": {
   "display_name": "Python 3.10.6 64-bit",
   "language": "python",
   "name": "python3"
  },
  "language_info": {
   "codemirror_mode": {
    "name": "ipython",
    "version": 3
   },
   "file_extension": ".py",
   "mimetype": "text/x-python",
   "name": "python",
   "nbconvert_exporter": "python",
   "pygments_lexer": "ipython3",
   "version": "3.10.6"
  },
  "orig_nbformat": 4,
  "vscode": {
   "interpreter": {
    "hash": "d044c6e0ce06759120adefce77398d00e1228e64d92f3f185fbd024a7701b8e0"
   }
  }
 },
 "nbformat": 4,
 "nbformat_minor": 2
}
