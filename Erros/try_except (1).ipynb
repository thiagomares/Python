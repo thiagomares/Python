{
 "cells": [
  {
   "cell_type": "markdown",
   "metadata": {},
   "source": [
    "# Try e Except\n",
    "\n",
    "Utilizamos o bloco try/except para tratar erros que podem ocorrer no nosso código, previnindo que o programa pare de funcionar, e o usuário receba mensagens de erro inesperadas.\n",
    "\n",
    "A forma geral mais simples é:\n",
    "\n",
    "try:\n",
    "execução problematica\n",
    "except:\n",
    "que deve ser feito em caso de tretas\n"
   ]
  },
  {
   "cell_type": "code",
   "execution_count": 4,
   "metadata": {},
   "outputs": [
    {
     "name": "stdout",
     "output_type": "stream",
     "text": [
      "Deu problema\n"
     ]
    }
   ],
   "source": [
    "# Mostrando na pratica\n",
    "\n",
    "try:\n",
    "    print(thiago())  # como não temos a função thiago, ele iria retornar um NameError\n",
    "except:\n",
    "    print('Deu problema')\n"
   ]
  },
  {
   "cell_type": "code",
   "execution_count": 11,
   "metadata": {},
   "outputs": [
    {
     "name": "stdout",
     "output_type": "stream",
     "text": [
      "Deu esse erro aqui, tio: name 'thiago' is not defined\n"
     ]
    }
   ],
   "source": [
    "# Tratando erro especifico\n",
    "\n",
    "try:\n",
    "    print(thiago())\n",
    "except NameError as err:\n",
    "    print(f'Deu esse erro aqui, tio: {err}')\n",
    "    # com o err nos podemos pegar o erro que deu no interpretador e lançar e ver sem travar o programa inteiro :)\n",
    "except TypeError as err:\n",
    "    print(f'Deu esse erro aqui, tio: {err}')\n",
    "\n",
    "\n",
    "# Podemos tratar diversos tipos de erro de uma unica vez\n"
   ]
  }
 ],
 "metadata": {
  "interpreter": {
   "hash": "e7370f93d1d0cde622a1f8e1c04877d8463912d04d973331ad4851f04de6915a"
  },
  "kernelspec": {
   "display_name": "Python 3.8.10 64-bit",
   "language": "python",
   "name": "python3"
  },
  "language_info": {
   "codemirror_mode": {
    "name": "ipython",
    "version": 3
   },
   "file_extension": ".py",
   "mimetype": "text/x-python",
   "name": "python",
   "nbconvert_exporter": "python",
   "pygments_lexer": "ipython3",
   "version": "3.8.10"
  },
  "orig_nbformat": 4
 },
 "nbformat": 4,
 "nbformat_minor": 2
}
