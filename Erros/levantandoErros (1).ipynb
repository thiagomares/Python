{
 "cells": [
  {
   "cell_type": "markdown",
   "metadata": {},
   "source": [
    "# Levantando os próprios erros com raise\n",
    "\n",
    "Raise -> Lança exceções\n",
    "\n",
    "O Raise não é uma função, é uma palavra reservada, tal como o def ou qualquer outra em python. Para Simplificar, pense que o raise é util para criarmos nossas proprias exceções e mensagens de erro"
   ]
  },
  {
   "cell_type": "code",
   "execution_count": null,
   "metadata": {},
   "outputs": [],
   "source": [
    "# como usar o raise\n",
    "\n",
    "raise TypeError('Erro de codigo')"
   ]
  },
  {
   "cell_type": "code",
   "execution_count": null,
   "metadata": {},
   "outputs": [],
   "source": [
    "# Exemplo real\n",
    "\n",
    "def colore(texto, cor):\n",
    "    cores = ('verde', 'azul', 'preto')\n",
    "    if type(texto) is not str:\n",
    "        raise TypeError('Precisa ser string') # Retorna erro se o valor não for uma string\n",
    "    if type(cor) is not str:\n",
    "        raise TypeError('precisa ser string')\n",
    "    if cor not in cores: # Retorna um erro de valor se o valor não estiver dentro dos params apresentados\n",
    "        raise ValueError('Cor inválida')\n",
    "    print(f'o texto {texto} será impresso na cor {cor}')\n",
    "    \n",
    "colore('Thiago', 'verde')"
   ]
  },
  {
   "cell_type": "markdown",
   "metadata": {},
   "source": [
    "O Raise, assim como o return, encerra a função, logo, qualquer coisa que esteja abaixo do raise, é sumariamente ignorado."
   ]
  }
 ],
 "metadata": {
  "interpreter": {
   "hash": "e7370f93d1d0cde622a1f8e1c04877d8463912d04d973331ad4851f04de6915a"
  },
  "kernelspec": {
   "display_name": "Python 3.8.10 64-bit",
   "language": "python",
   "name": "python3"
  },
  "language_info": {
   "codemirror_mode": {
    "name": "ipython",
    "version": 3
   },
   "file_extension": ".py",
   "mimetype": "text/x-python",
   "name": "python",
   "nbconvert_exporter": "python",
   "pygments_lexer": "ipython3",
   "version": "3.8.10"
  },
  "orig_nbformat": 4
 },
 "nbformat": 4,
 "nbformat_minor": 2
}
