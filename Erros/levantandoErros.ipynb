{
 "cells": [
  {
   "cell_type": "markdown",
   "metadata": {},
   "source": [
    "# Levantando os próprios erros com raise\n",
    "\n",
    "Raise -> Lança exceções\n",
    "\n",
    "O Raise não é uma função, é uma palavra reservada, tal como o def ou qualquer outra em python. Para Simplificar, pense que o raise é util para criarmos nossas proprias exceções e mensagens de erro"
   ]
  },
  {
   "cell_type": "code",
   "execution_count": 1,
   "metadata": {},
   "outputs": [
    {
     "ename": "TypeError",
     "evalue": "Erro de codigo",
     "output_type": "error",
     "traceback": [
      "\u001b[0;31m---------------------------------------------------------------------------\u001b[0m",
      "\u001b[0;31mTypeError\u001b[0m                                 Traceback (most recent call last)",
      "\u001b[1;32m/media/thiago/Novo volume/Python/Erros/levantandoErros.ipynb Cell 2'\u001b[0m in \u001b[0;36m<cell line: 3>\u001b[0;34m()\u001b[0m\n\u001b[1;32m      <a href='vscode-notebook-cell:/media/thiago/Novo%20volume/Python/Erros/levantandoErros.ipynb#ch0000002?line=0'>1</a>\u001b[0m \u001b[39m# como usar o raise\u001b[39;00m\n\u001b[0;32m----> <a href='vscode-notebook-cell:/media/thiago/Novo%20volume/Python/Erros/levantandoErros.ipynb#ch0000002?line=2'>3</a>\u001b[0m \u001b[39mraise\u001b[39;00m \u001b[39mTypeError\u001b[39;00m(\u001b[39m'\u001b[39m\u001b[39mErro de codigo\u001b[39m\u001b[39m'\u001b[39m)\n",
      "\u001b[0;31mTypeError\u001b[0m: Erro de codigo"
     ]
    }
   ],
   "source": [
    "# como usar o raise\n",
    "\n",
    "raise TypeError('Erro de codigo')"
   ]
  },
  {
   "cell_type": "code",
   "execution_count": 2,
   "metadata": {},
   "outputs": [
    {
     "name": "stdout",
     "output_type": "stream",
     "text": [
      "o texto Thiago será impresso na cor preto\n"
     ]
    }
   ],
   "source": [
    "# Exemplo real\n",
    "\n",
    "def colore(texto, cor):\n",
    "    if type(texto) is not str:\n",
    "        raise TypeError('Precisa ser string')\n",
    "    if type(cor) is not str:\n",
    "        raise TypeError('precisa ser string')\n",
    "    \n",
    "    print(f'o texto {texto} será impresso na cor {cor}')\n",
    "    \n",
    "colore('Thiago', 'preto')"
   ]
  }
 ],
 "metadata": {
  "interpreter": {
   "hash": "e7370f93d1d0cde622a1f8e1c04877d8463912d04d973331ad4851f04de6915a"
  },
  "kernelspec": {
   "display_name": "Python 3.8.10 64-bit",
   "language": "python",
   "name": "python3"
  },
  "language_info": {
   "codemirror_mode": {
    "name": "ipython",
    "version": 3
   },
   "file_extension": ".py",
   "mimetype": "text/x-python",
   "name": "python",
   "nbconvert_exporter": "python",
   "pygments_lexer": "ipython3",
   "version": "3.8.10"
  },
  "orig_nbformat": 4
 },
 "nbformat": 4,
 "nbformat_minor": 2
}
