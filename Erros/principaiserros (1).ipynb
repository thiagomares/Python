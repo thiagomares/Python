{
 "cells": [
  {
   "cell_type": "markdown",
   "metadata": {},
   "source": [
    "# Erros mais comuns em python\n",
    "\n",
    "É de extrema importancia o que nos prestemos atenção nos erros do console e aprender a ler as saidas de erro geradads pela execução do código.\n",
    "\n",
    "Os erros mais comuns:\n",
    "\n",
    "Syntax Error (erro de sintaxe): Quando ocorre um erro de sintaxe, que acontece quando escrevemos algo que o python não reconhece como parte da linguagem.\n"
   ]
  },
  {
   "cell_type": "code",
   "execution_count": 37,
   "metadata": {},
   "outputs": [
    {
     "name": "stdout",
     "output_type": "stream",
     "text": [
      "Thiago\n",
      "Colégio Arnaldo\n",
      "Stilo\n"
     ]
    }
   ],
   "source": [
    "# Erro de Sintaxe\n",
    "\n",
    "def funcao():\n",
    "    print('Olá Mundo')\n",
    "\n",
    "\n",
    "class Outra:\n",
    "    def __init__(self, name, age, school):\n",
    "        self.name = name\n",
    "        self.age = age\n",
    "        self.school = school\n",
    "\n",
    "    def pessoa(self):\n",
    "        print(self.name, self.age)\n",
    "\n",
    "    def carro(self):\n",
    "        print(self.car)\n",
    "\n",
    "    def escola(self):\n",
    "        print(self.school)\n",
    "\n",
    "\n",
    "class Teste(Outra):  # Isso aqui é uma herança\n",
    "\n",
    "    def __init__(self, name, age, school, car, namorado):\n",
    "        super().__init__(name, age, school) # Para que eu nao precise pegar o método self, devo obrigatoriamente usar o super()\n",
    "        self.car = car\n",
    "        self.namorado = namorado\n",
    "\n",
    "    def namorando(self):\n",
    "        print(self.namorado)\n",
    "\n",
    "\n",
    "ana_clara = Teste('Ana Clara', 19, 'Colégio Arnaldo', 'Stilo', 'Thiago')\n",
    "ana_clara.namorando()\n",
    "ana_clara.escola()\n",
    "ana_clara.carro()\n"
   ]
  }
 ],
 "metadata": {
  "interpreter": {
   "hash": "bd0e6b5edb2389b846652e4eec8e22293a35661478096432f8d05d0cbde10bdc"
  },
  "kernelspec": {
   "display_name": "Python 3.10.3 64-bit",
   "language": "python",
   "name": "python3"
  },
  "language_info": {
   "codemirror_mode": {
    "name": "ipython",
    "version": 3
   },
   "file_extension": ".py",
   "mimetype": "text/x-python",
   "name": "python",
   "nbconvert_exporter": "python",
   "pygments_lexer": "ipython3",
   "version": "3.8.10"
  },
  "orig_nbformat": 4
 },
 "nbformat": 4,
 "nbformat_minor": 2
}
