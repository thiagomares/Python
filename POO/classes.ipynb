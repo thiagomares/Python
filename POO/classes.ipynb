{
 "cells": [
  {
   "cell_type": "markdown",
   "metadata": {},
   "source": [
    "# Classes\n",
    "\n",
    "Classe nada mais é, em POO, que modelos dos objetos do mundo real, sendo representados computacionalmente\n",
    "\n",
    "Imagine um sistema para automação o controle de lampadas da casa;\n"
   ]
  },
  {
   "cell_type": "code",
   "execution_count": 2,
   "metadata": {},
   "outputs": [
    {
     "name": "stdout",
     "output_type": "stream",
     "text": [
      "<class '__main__.lampada'>\n"
     ]
    }
   ],
   "source": [
    "# Criando a classe lampada\n",
    "\n",
    "class Lampada:\n",
    "    pass\n",
    "\n",
    "\n",
    "print(type(Lampada()))\n",
    "# Quando criamos a classe, nos estamos falando que nos estamos criando um tipo que não existe, contudo, quando vemos no compilador, nos visualizamos que esse objeto se concentra somente no arquivo (se não herdado, claro)\n"
   ]
  },
  {
   "cell_type": "markdown",
   "metadata": {},
   "source": [
    "Classes podem conter:\n",
    "<li>Atributos:\n",
    "Representam características do objeto. Com os atributos, nos podemos conferir computacionalmente os estados de um objeto. No caso de uma lâmpada, nos podemos saber se a lâmpada é 110v ou 220v, sua cor, ou ainda a luminosidade dela entre outras condições inerentes dela.\n",
    "<li> Métodos (def):\n",
    "Representa os comportamentos do objeto, ou seja, ações que um objeto pode realizar, como ligar ou desligar.\n"
   ]
  },
  {
   "cell_type": "code",
   "execution_count": null,
   "metadata": {},
   "outputs": [],
   "source": [
    "# No python, nos utilizamos a palavra reservada class para definir uma classe\n",
    "\n",
    "class Qualquer:\n",
    "    pass\n"
   ]
  },
  {
   "cell_type": "markdown",
   "metadata": {},
   "source": [
    "Quando nomeamos uma classe em python, utilizamos por convenção o nome com a inicial em maiusculo, caso o nome composto, utilizamos camel case\n",
    "\n",
    "\n",
    "Quando estamos planejando um software, e definimos quantas classes teremos no nosso programa, chamamos estes objetos que serão mapeados de classes de entidade."
   ]
  }
 ],
 "metadata": {
  "kernelspec": {
   "display_name": "Python 3.10.6 64-bit",
   "language": "python",
   "name": "python3"
  },
  "language_info": {
   "codemirror_mode": {
    "name": "ipython",
    "version": 3
   },
   "file_extension": ".py",
   "mimetype": "text/x-python",
   "name": "python",
   "nbconvert_exporter": "python",
   "pygments_lexer": "ipython3",
   "version": "3.10.6"
  },
  "orig_nbformat": 4,
  "vscode": {
   "interpreter": {
    "hash": "d044c6e0ce06759120adefce77398d00e1228e64d92f3f185fbd024a7701b8e0"
   }
  }
 },
 "nbformat": 4,
 "nbformat_minor": 2
}
